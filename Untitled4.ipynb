{
 "cells": [
  {
   "cell_type": "code",
   "execution_count": 12,
   "id": "14aca36e",
   "metadata": {},
   "outputs": [
    {
     "name": "stdout",
     "output_type": "stream",
     "text": [
      "Website copy saved to https:__www.davidkolbconsultancy.com.html.\n",
      "Website copy saved to https:__www.davidkolbconsultancy.com_about.html.\n",
      "Website copy saved to https:__www.davidkolbconsultancy.com_accelerator.html.\n",
      "Website copy saved to https:__www.davidkolbconsultancy.com_blog.html.\n",
      "Website copy saved to https:__www.davidkolbconsultancy.com_coaching.html.\n",
      "Website copy saved to https:__www.davidkolbconsultancy.com_consulting.html.\n",
      "Website copy saved to https:__www.davidkolbconsultancy.com_contact.html.\n",
      "Website copy saved to https:__www.davidkolbconsultancy.com_our-process.html.\n",
      "Website copy saved to https:__www.davidkolbconsultancy.com_values.html.\n",
      "Website copy saved to https:__www.davidkolbconsultancy.com_website-privacy-policy.html.\n",
      "Website copy saved to https:__www.davidkolbconsultancy.com_workshop.html.\n"
     ]
    }
   ],
   "source": [
    "import requests\n",
    "from bs4 import BeautifulSoup\n",
    "\n",
    "def save_web_copy(url, filename):\n",
    "    response = requests.get(url)\n",
    "    soup = BeautifulSoup(response.content, 'html.parser')\n",
    "    html_content = str(soup.prettify())\n",
    "\n",
    "    with open(filename, 'w', encoding='utf-8') as file:\n",
    "        file.write(html_content)\n",
    "    \n",
    "    print(f\"Website copy saved to {filename}.\")\n",
    "\n",
    "sitemap_urls = [\n",
    "    'https://www.davidkolbconsultancy.com/pages-sitemap.xml']\n",
    "\n",
    "for sitemap_url in sitemap_urls:\n",
    "    response = requests.get(sitemap_url)\n",
    "    soup = BeautifulSoup(response.content, 'html.parser')\n",
    "\n",
    "    for loc in soup.find_all('loc'):\n",
    "        page_url = loc.text\n",
    "\n",
    "        filename = f\"{page_url.replace('/', '_')}.html\"\n",
    "        save_web_copy(page_url, filename)\n"
   ]
  }
 ],
 "metadata": {
  "kernelspec": {
   "display_name": "Python 3 (ipykernel)",
   "language": "python",
   "name": "python3"
  },
  "language_info": {
   "codemirror_mode": {
    "name": "ipython",
    "version": 3
   },
   "file_extension": ".py",
   "mimetype": "text/x-python",
   "name": "python",
   "nbconvert_exporter": "python",
   "pygments_lexer": "ipython3",
   "version": "3.8.16"
  }
 },
 "nbformat": 4,
 "nbformat_minor": 5
}
