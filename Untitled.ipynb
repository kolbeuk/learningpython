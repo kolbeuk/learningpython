{
 "cells": [
  {
   "cell_type": "code",
   "execution_count": 1,
   "id": "05afebc5",
   "metadata": {},
   "outputs": [],
   "source": [
    "with open('message.txt', 'r') as f:\n",
    "    text = f.read()\n",
    "\n",
    "# Calculate the length of each part\n",
    "length = len(text) // 4\n",
    "\n",
    "# Split the text into 4 parts\n",
    "part1 = text[:length]\n",
    "part2 = text[length:length*2]\n",
    "part3 = text[length*2:length*3]\n",
    "part4 = text[length*3:]\n",
    "\n",
    "# Write each part to a new file\n",
    "with open('part1.txt', 'w') as f:\n",
    "    f.write(part1)\n",
    "\n",
    "with open('part2.txt', 'w') as f:\n",
    "    f.write(part2)\n",
    "\n",
    "with open('part3.txt', 'w') as f:\n",
    "    f.write(part3)\n",
    "\n",
    "with open('part4.txt', 'w') as f:\n",
    "    f.write(part4)\n"
   ]
  }
 ],
 "metadata": {
  "kernelspec": {
   "display_name": "Python 3 (ipykernel)",
   "language": "python",
   "name": "python3"
  },
  "language_info": {
   "codemirror_mode": {
    "name": "ipython",
    "version": 3
   },
   "file_extension": ".py",
   "mimetype": "text/x-python",
   "name": "python",
   "nbconvert_exporter": "python",
   "pygments_lexer": "ipython3",
   "version": "3.8.16"
  }
 },
 "nbformat": 4,
 "nbformat_minor": 5
}
