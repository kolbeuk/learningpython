{
 "cells": [
  {
   "cell_type": "code",
   "execution_count": 2,
   "id": "ca2c9a93",
   "metadata": {},
   "outputs": [],
   "source": [
    "# Open the input file for reading\n",
    "with open(\"input_file.txt\", \"r\") as input_file:\n",
    "    # Read the lines from the file\n",
    "    lines = input_file.readlines()\n",
    "\n",
    "# Open the output file for writing\n",
    "with open(\"output_file.txt\", \"w\") as output_file:\n",
    "    # Loop through each line in the input file\n",
    "    for line in lines:\n",
    "        # Check if the line is blank or contains \"repl\" or contains hours\n",
    "        if line.strip() == \"\" or \"output_file.txt\" in line or any(hour in line for hour in [\"00:\", \"01:\", \"02:\", \"03:\", \"04:\", \"05:\", \"06:\", \"07:\", \"08:\", \"09:\", \"10:\", \"11:\", \"12:\", \"13:\", \"14:\", \"15:\", \"16:\", \"17:\", \"18:\", \"19:\", \"20:\", \"21:\", \"22:\", \"23:\"]):\n",
    "            # Skip the line if it meets any of the above conditions\n",
    "            continue\n",
    "        # Write the line to the output file if it doesn't meet any of the above conditions\n",
    "        output_file.write(line)\n"
   ]
  }
 ],
 "metadata": {
  "kernelspec": {
   "display_name": "Python 3 (ipykernel)",
   "language": "python",
   "name": "python3"
  },
  "language_info": {
   "codemirror_mode": {
    "name": "ipython",
    "version": 3
   },
   "file_extension": ".py",
   "mimetype": "text/x-python",
   "name": "python",
   "nbconvert_exporter": "python",
   "pygments_lexer": "ipython3",
   "version": "3.8.16"
  }
 },
 "nbformat": 4,
 "nbformat_minor": 5
}
