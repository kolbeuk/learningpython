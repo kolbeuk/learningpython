{
 "cells": [
  {
   "cell_type": "code",
   "execution_count": 19,
   "id": "eda9fd9c",
   "metadata": {},
   "outputs": [],
   "source": [
    "import pretty_midi\n",
    "\n",
    "# Create a new PrettyMIDI object with an initial tempo of 120 beats per minute\n",
    "midi_data = pretty_midi.PrettyMIDI(initial_tempo=120)\n",
    "\n",
    "# Create a new instrument for each of the 80s synth parts\n",
    "synth1_program = pretty_midi.instrument_name_to_program('Lead 1 (square)')\n",
    "synth1 = pretty_midi.Instrument(program=synth1_program)\n",
    "synth2_program = pretty_midi.instrument_name_to_program('Electric Bass (finger)')\n",
    "synth2 = pretty_midi.Instrument(program=synth2_program)\n",
    "synth3_program = pretty_midi.instrument_name_to_program('Choir Aahs')\n",
    "synth3 = pretty_midi.Instrument(program=synth3_program)\n",
    "synth4_program = pretty_midi.instrument_name_to_program('Synth Drum')\n",
    "synth4 = pretty_midi.Instrument(program=synth4_program)\n",
    "\n",
    "# Add notes to each synth part\n",
    "synth1.notes.append(pretty_midi.Note(velocity=100, pitch=43, start=0, end=0.5))\n",
    "synth1.notes.append(pretty_midi.Note(velocity=100, pitch=41, start=0.5, end=1))\n",
    "synth1.notes.append(pretty_midi.Note(velocity=100, pitch=48, start=1, end=1.5))\n",
    "synth1.notes.append(pretty_midi.Note(velocity=100, pitch=52, start=1.5, end=2))\n",
    "synth2.notes.append(pretty_midi.Note(velocity=100, pitch=48, start=0, end=2))\n",
    "synth3.notes.append(pretty_midi.Note(velocity=100, pitch=60, start=0, end=2))\n",
    "synth4.notes.append(pretty_midi.Note(velocity=100, pitch=35, start=0, end=1))\n",
    "synth4.notes.append(pretty_midi.Note(velocity=100, pitch=42, start=1, end=2))\n",
    "synth4.notes.append(pretty_midi.Note(velocity=100, pitch=38, start=2, end=3))\n",
    "synth4.notes.append(pretty_midi.Note(velocity=100, pitch=42, start=3, end=4))\n",
    "\n",
    "# Add the synth parts to the MIDI object\n",
    "midi_data.instruments.append(synth1)\n",
    "midi_data.instruments.append(synth2)\n",
    "midi_data.instruments.append(synth3)\n",
    "midi_data.instruments.append(synth4)\n",
    "\n",
    "# Write the MIDI data to a file\n",
    "midi_data.write('passing_the_baton.mid')\n"
   ]
  },
  {
   "cell_type": "code",
   "execution_count": null,
   "id": "493434b1",
   "metadata": {},
   "outputs": [],
   "source": []
  },
  {
   "cell_type": "code",
   "execution_count": null,
   "id": "151bc95a",
   "metadata": {},
   "outputs": [],
   "source": []
  }
 ],
 "metadata": {
  "kernelspec": {
   "display_name": "Python 3 (ipykernel)",
   "language": "python",
   "name": "python3"
  },
  "language_info": {
   "codemirror_mode": {
    "name": "ipython",
    "version": 3
   },
   "file_extension": ".py",
   "mimetype": "text/x-python",
   "name": "python",
   "nbconvert_exporter": "python",
   "pygments_lexer": "ipython3",
   "version": "3.8.16"
  }
 },
 "nbformat": 4,
 "nbformat_minor": 5
}
