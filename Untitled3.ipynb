{
 "cells": [
  {
   "cell_type": "code",
   "execution_count": 1,
   "id": "a2bc27d6",
   "metadata": {},
   "outputs": [],
   "source": [
    "# Open the file for reading\n",
    "with open(\"dtc.txt\", \"r\") as f:\n",
    "    # Read the file contents\n",
    "    text = f.read()\n",
    "\n",
    "# Split the text into sentences\n",
    "sentences = text.split(\". \")\n",
    "\n",
    "# Open the file for writing\n",
    "with open(\"dtco.txt\", \"w\") as f:\n",
    "    # Write each sentence to a new line\n",
    "    for sentence in sentences:\n",
    "        f.write(sentence.strip() + \"\\n\")\n"
   ]
  }
 ],
 "metadata": {
  "kernelspec": {
   "display_name": "Python 3 (ipykernel)",
   "language": "python",
   "name": "python3"
  },
  "language_info": {
   "codemirror_mode": {
    "name": "ipython",
    "version": 3
   },
   "file_extension": ".py",
   "mimetype": "text/x-python",
   "name": "python",
   "nbconvert_exporter": "python",
   "pygments_lexer": "ipython3",
   "version": "3.8.16"
  }
 },
 "nbformat": 4,
 "nbformat_minor": 5
}
